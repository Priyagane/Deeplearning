{
  "cells": [
    {
      "cell_type": "markdown",
      "metadata": {
        "id": "view-in-github",
        "colab_type": "text"
      },
      "source": [
        "<a href=\"https://colab.research.google.com/github/Priyagane/Deeplearning/blob/main/MNIST_handwritten_classification_project1.ipynb\" target=\"_parent\"><img src=\"https://colab.research.google.com/assets/colab-badge.svg\" alt=\"Open In Colab\"/></a>"
      ]
    },
    {
      "cell_type": "markdown",
      "metadata": {
        "id": "QhtTd6_94dP8"
      },
      "source": [
        "Section I.I : Initial Data Indagation"
      ]
    },
    {
      "cell_type": "code",
      "execution_count": 1,
      "metadata": {
        "colab": {
          "base_uri": "https://localhost:8080/"
        },
        "id": "GWK7nTqoxYI9",
        "outputId": "e270fd31-96b9-4cf9-a70d-f8c6bdcb7053"
      },
      "outputs": [
        {
          "output_type": "stream",
          "name": "stdout",
          "text": [
            "Downloading data from https://storage.googleapis.com/tensorflow/tf-keras-datasets/mnist.npz\n",
            "11493376/11490434 [==============================] - 0s 0us/step\n",
            "11501568/11490434 [==============================] - 0s 0us/step\n",
            "Train: X = (60000, 28, 28), y = (60000,)\n",
            "Test: X = (10000, 28, 28), y = (10000,)\n"
          ]
        }
      ],
      "source": [
        "import numpy as np\n",
        "import matplotlib.pyplot as plt\n",
        "import keras\n",
        "from keras.datasets import mnist \n",
        "from keras.models import Sequential\n",
        "from keras.layers import Dense, Conv2D, MaxPool2D, Flatten,Dropout\n",
        "(trainsetX, trainsety),(testsetX,testsety) = mnist.load_data()\n",
        "\n",
        "print('Train: X = {}, y = {}'.format(trainsetX.shape, trainsety.shape)) \n",
        "print('Test: X = {}, y = {}'.format(testsetX.shape, testsety.shape))"
      ]
    },
    {
      "cell_type": "markdown",
      "metadata": {
        "id": "DzCYNPONRMjk"
      },
      "source": [
        "Section I.II : Initial EDA"
      ]
    },
    {
      "cell_type": "code",
      "execution_count": 2,
      "metadata": {
        "colab": {
          "base_uri": "https://localhost:8080/",
          "height": 338
        },
        "id": "CHqojRX6QPhX",
        "outputId": "2447b08d-dba3-40e8-c1f4-026ad2847a63"
      },
      "outputs": [
        {
          "output_type": "execute_result",
          "data": {
            "text/plain": [
              "(array([5923., 6742., 5958., 6131., 5842., 5421., 5918., 6265., 5851.,\n",
              "        5949.]),\n",
              " array([0. , 0.9, 1.8, 2.7, 3.6, 4.5, 5.4, 6.3, 7.2, 8.1, 9. ]),\n",
              " <a list of 10 Patch objects>)"
            ]
          },
          "metadata": {},
          "execution_count": 2
        },
        {
          "output_type": "display_data",
          "data": {
            "text/plain": [
              "<Figure size 432x288 with 1 Axes>"
            ],
            "image/png": "[encoded data removed]"
          },
          "metadata": {
            "needs_background": "light"
          }
        }
      ],
      "source": [
        "plt.hist(trainsety)"
      ]
    },
    {
      "cell_type": "code",
      "execution_count": 3,
      "metadata": {
        "colab": {
          "base_uri": "https://localhost:8080/",
          "height": 1000
        },
        "id": "hhfIzvsu3yv0",
        "outputId": "1eb49dc4-efe5-40fa-dddc-a9f7e38cbe33"
      },
      "outputs": [
        {
          "output_type": "display_data",
          "data": {
            "text/plain": [
              "<Figure size 432x288 with 1 Axes>"
            ],
            "image/png": "[encoded data removed]"
          },
          "metadata": {
            "needs_background": "light"
          }
        },
        {
          "output_type": "stream",
          "name": "stdout",
          "text": [
            "number is: 3\n",
            "**************************************************\n"
          ]
        },
        {
          "output_type": "display_data",
          "data": {
            "text/plain": [
              "<Figure size 432x288 with 1 Axes>"
            ],
            "image/png": "[encoded data removed]"
          },
          "metadata": {
            "needs_background": "light"
          }
        },
        {
          "output_type": "stream",
          "name": "stdout",
          "text": [
            "number is: 3\n",
            "**************************************************\n"
          ]
        },
        {
          "output_type": "display_data",
          "data": {
            "text/plain": [
              "<Figure size 432x288 with 1 Axes>"
            ],
            "image/png": "[encoded data removed]"
          },
          "metadata": {
            "needs_background": "light"
          }
        },
        {
          "output_type": "stream",
          "name": "stdout",
          "text": [
            "number is: 8\n",
            "**************************************************\n"
          ]
        },
        {
          "output_type": "display_data",
          "data": {
            "text/plain": [
              "<Figure size 432x288 with 1 Axes>"
            ],
            "image/png": "[encoded data removed]"
          },
          "metadata": {
            "needs_background": "light"
          }
        },
        {
          "output_type": "stream",
          "name": "stdout",
          "text": [
            "number is: 4\n",
            "**************************************************\n"
          ]
        },
        {
          "output_type": "display_data",
          "data": {
            "text/plain": [
              "<Figure size 432x288 with 1 Axes>"
            ],
            "image/png": "[encoded data removed]"
          },
          "metadata": {
            "needs_background": "light"
          }
        },
        {
          "output_type": "stream",
          "name": "stdout",
          "text": [
            "number is: 1\n",
            "**************************************************\n"
          ]
        }
      ],
      "source": [
        "list1= [10,500,300,1050,40]\n",
        "for i in list1:\n",
        " plt.imshow(trainsetX[i],cmap='binary')\n",
        " plt.show()\n",
        " print('number is:',trainsety[i])\n",
        " print('*'*50)\n",
        " "
      ]
    },
    {
      "cell_type": "markdown",
      "metadata": {
        "id": "Q99nrjNGTDNP"
      },
      "source": [
        "Section II : Data Preparation"
      ]
    },
    {
      "cell_type": "code",
      "execution_count": 4,
      "metadata": {
        "id": "ikSh_kOU7KcB"
      },
      "outputs": [],
      "source": [
        "#Normalize the pixel value\n",
        "\n",
        "trainsetX = trainsetX.astype(np.float32)/255\n",
        "testsetX = testsetX.astype(np.float32)/255\n"
      ]
    },
    {
      "cell_type": "code",
      "execution_count": 5,
      "metadata": {
        "id": "9upaeolyF1oK"
      },
      "outputs": [],
      "source": [
        "#Reshape the dimension to (28,28,1)\n",
        "X_train = np.expand_dims(trainsetX,-1)\n",
        "X_test =  np.expand_dims(testsetX,-1)\n"
      ]
    },
    {
      "cell_type": "code",
      "execution_count": 6,
      "metadata": {
        "colab": {
          "base_uri": "https://localhost:8080/"
        },
        "id": "JPbgrQYrPiur",
        "outputId": "bf40be63-e409-4598-8c65-84a1082f4a5d"
      },
      "outputs": [
        {
          "output_type": "execute_result",
          "data": {
            "text/plain": [
              "(60000, 28, 28, 1)"
            ]
          },
          "metadata": {},
          "execution_count": 6
        }
      ],
      "source": [
        "X_train.shape"
      ]
    },
    {
      "cell_type": "code",
      "execution_count": 7,
      "metadata": {
        "id": "18Qu4W6SsBoD"
      },
      "outputs": [],
      "source": [
        "#convert the classes to one hot vectors\n",
        "y_train = keras.utils.np_utils.to_categorical(trainsety)\n",
        "y_test = keras.utils.np_utils.to_categorical(testsety)"
      ]
    },
    {
      "cell_type": "code",
      "execution_count": 8,
      "metadata": {
        "colab": {
          "base_uri": "https://localhost:8080/"
        },
        "id": "cbEIf0aWX36O",
        "outputId": "06abe82b-ce79-40cc-8467-14108f8d5ed2"
      },
      "outputs": [
        {
          "output_type": "execute_result",
          "data": {
            "text/plain": [
              "2"
            ]
          },
          "metadata": {},
          "execution_count": 8
        }
      ],
      "source": [
        "trainsety[5]"
      ]
    },
    {
      "cell_type": "code",
      "execution_count": 9,
      "metadata": {
        "colab": {
          "base_uri": "https://localhost:8080/"
        },
        "id": "Jy0iBix-X8jF",
        "outputId": "f1a0b567-6376-4f60-c3b1-7da18d7d65f0"
      },
      "outputs": [
        {
          "output_type": "execute_result",
          "data": {
            "text/plain": [
              "array([0., 0., 1., 0., 0., 0., 0., 0., 0., 0.], dtype=float32)"
            ]
          },
          "metadata": {},
          "execution_count": 9
        }
      ],
      "source": [
        "y_train[5]"
      ]
    },
    {
      "cell_type": "markdown",
      "metadata": {
        "id": "BxkXwCYYTiz7"
      },
      "source": [
        "Section III : Model Construction"
      ]
    },
    {
      "cell_type": "code",
      "execution_count": 10,
      "metadata": {
        "id": "wM99ALTPuJL6"
      },
      "outputs": [],
      "source": [
        "#Initialising the CNN\n",
        "model = Sequential()\n",
        "\n",
        "#Convolution\n",
        "model.add(Conv2D(128,(3,3),input_shape=(28,28,1),activation= 'relu'))\n",
        "#Pooling\n",
        "model.add(MaxPool2D((2,2)))\n",
        "\n",
        "#Adding a second convolutional layer and Pooling\n",
        "model.add(Conv2D(64,(3,3),activation= 'relu'))\n",
        "model.add(MaxPool2D((2,2)))\n",
        "\n",
        "#Flattening\n",
        "model.add(Flatten())\n",
        "\n",
        "#Dropout\n",
        "model.add(Dropout(0.25))\n",
        "\n",
        "#Output Layer\n",
        "model.add(Dense(10, activation='softmax'))"
      ]
    },
    {
      "cell_type": "code",
      "execution_count": 11,
      "metadata": {
        "colab": {
          "base_uri": "https://localhost:8080/"
        },
        "id": "SFDsxcXrvP6W",
        "outputId": "ba838f62-ff08-47d3-a0e9-93d667e74e2c"
      },
      "outputs": [
        {
          "output_type": "stream",
          "name": "stdout",
          "text": [
            "Model: \"sequential\"\n",
            "_________________________________________________________________\n",
            " Layer (type)                Output Shape              Param #   \n",
            "=================================================================\n",
            " conv2d (Conv2D)             (None, 26, 26, 128)       1280      \n",
            "                                                                 \n",
            " max_pooling2d (MaxPooling2D  (None, 13, 13, 128)      0         \n",
            " )                                                               \n",
            "                                                                 \n",
            " conv2d_1 (Conv2D)           (None, 11, 11, 64)        73792     \n",
            "                                                                 \n",
            " max_pooling2d_1 (MaxPooling  (None, 5, 5, 64)         0         \n",
            " 2D)                                                             \n",
            "                                                                 \n",
            " flatten (Flatten)           (None, 1600)              0         \n",
            "                                                                 \n",
            " dropout (Dropout)           (None, 1600)              0         \n",
            "                                                                 \n",
            " dense (Dense)               (None, 10)                16010     \n",
            "                                                                 \n",
            "=================================================================\n",
            "Total params: 91,082\n",
            "Trainable params: 91,082\n",
            "Non-trainable params: 0\n",
            "_________________________________________________________________\n"
          ]
        }
      ],
      "source": [
        "#Model Summary\n",
        "model.summary()"
      ]
    },
    {
      "cell_type": "markdown",
      "metadata": {
        "id": "q58otRqzUux-"
      },
      "source": [
        "Training the CNN"
      ]
    },
    {
      "cell_type": "code",
      "execution_count": 12,
      "metadata": {
        "id": "Q6UiR3s_wGfp"
      },
      "outputs": [],
      "source": [
        "#Compiling the CNN\n",
        "from tensorflow.python import metrics\n",
        "model.compile(optimizer='adam', loss = keras.losses.categorical_crossentropy,metrics=['accuracy'])\n"
      ]
    },
    {
      "cell_type": "code",
      "execution_count": 13,
      "metadata": {
        "id": "R9R8XH06HXFX"
      },
      "outputs": [],
      "source": [
        "#Callbacks\n",
        "from keras.callbacks import  ModelCheckpoint\n",
        "\n",
        "\n",
        "#Model Check Point\n",
        "mc = ModelCheckpoint(\"./bestmodel.h5\",mointer='val_acc',verbose=1,save_best_only= True)\n",
        "\n",
        "cb = [mc]"
      ]
    },
    {
      "cell_type": "markdown",
      "metadata": {
        "id": "mKs5M0YIYsyF"
      },
      "source": []
    },
    {
      "cell_type": "code",
      "execution_count": 14,
      "metadata": {
        "colab": {
          "base_uri": "https://localhost:8080/"
        },
        "id": "BvsGJATPHSh5",
        "outputId": "319b28d2-5378-44f0-e9e0-016a53fbf1f4"
      },
      "outputs": [
        {
          "output_type": "stream",
          "name": "stdout",
          "text": [
            "Epoch 1/10\n",
            "1313/1313 [==============================] - ETA: 0s - loss: 0.1859 - accuracy: 0.9418\n",
            "Epoch 1: val_loss improved from inf to 0.08405, saving model to ./bestmodel.h5\n",
            "1313/1313 [==============================] - 19s 5ms/step - loss: 0.1859 - accuracy: 0.9418 - val_loss: 0.0840 - val_accuracy: 0.9749\n",
            "Epoch 2/10\n",
            "1303/1313 [============================>.] - ETA: 0s - loss: 0.0632 - accuracy: 0.9807\n",
            "Epoch 2: val_loss improved from 0.08405 to 0.05585, saving model to ./bestmodel.h5\n",
            "1313/1313 [==============================] - 6s 5ms/step - loss: 0.0630 - accuracy: 0.9807 - val_loss: 0.0559 - val_accuracy: 0.9828\n",
            "Epoch 3/10\n",
            "1302/1313 [============================>.] - ETA: 0s - loss: 0.0468 - accuracy: 0.9853\n",
            "Epoch 3: val_loss improved from 0.05585 to 0.04778, saving model to ./bestmodel.h5\n",
            "1313/1313 [==============================] - 8s 6ms/step - loss: 0.0467 - accuracy: 0.9854 - val_loss: 0.0478 - val_accuracy: 0.9864\n",
            "Epoch 4/10\n",
            "1308/1313 [============================>.] - ETA: 0s - loss: 0.0385 - accuracy: 0.9879\n",
            "Epoch 4: val_loss improved from 0.04778 to 0.04591, saving model to ./bestmodel.h5\n",
            "1313/1313 [==============================] - 7s 5ms/step - loss: 0.0386 - accuracy: 0.9879 - val_loss: 0.0459 - val_accuracy: 0.9860\n",
            "Epoch 5/10\n",
            "1305/1313 [============================>.] - ETA: 0s - loss: 0.0329 - accuracy: 0.9892\n",
            "Epoch 5: val_loss improved from 0.04591 to 0.03902, saving model to ./bestmodel.h5\n",
            "1313/1313 [==============================] - 7s 5ms/step - loss: 0.0328 - accuracy: 0.9892 - val_loss: 0.0390 - val_accuracy: 0.9879\n",
            "Epoch 6/10\n",
            "1312/1313 [============================>.] - ETA: 0s - loss: 0.0287 - accuracy: 0.9906\n",
            "Epoch 6: val_loss did not improve from 0.03902\n",
            "1313/1313 [==============================] - 8s 6ms/step - loss: 0.0287 - accuracy: 0.9906 - val_loss: 0.0418 - val_accuracy: 0.9878\n",
            "Epoch 7/10\n",
            "1309/1313 [============================>.] - ETA: 0s - loss: 0.0237 - accuracy: 0.9920\n",
            "Epoch 7: val_loss did not improve from 0.03902\n",
            "1313/1313 [==============================] - 8s 6ms/step - loss: 0.0237 - accuracy: 0.9920 - val_loss: 0.0438 - val_accuracy: 0.9878\n",
            "Epoch 8/10\n",
            "1301/1313 [============================>.] - ETA: 0s - loss: 0.0229 - accuracy: 0.9924\n",
            "Epoch 8: val_loss improved from 0.03902 to 0.03702, saving model to ./bestmodel.h5\n",
            "1313/1313 [==============================] - 7s 5ms/step - loss: 0.0228 - accuracy: 0.9924 - val_loss: 0.0370 - val_accuracy: 0.9892\n",
            "Epoch 9/10\n",
            "1301/1313 [============================>.] - ETA: 0s - loss: 0.0177 - accuracy: 0.9941\n",
            "Epoch 9: val_loss did not improve from 0.03702\n",
            "1313/1313 [==============================] - 8s 6ms/step - loss: 0.0177 - accuracy: 0.9942 - val_loss: 0.0437 - val_accuracy: 0.9884\n",
            "Epoch 10/10\n",
            "1305/1313 [============================>.] - ETA: 0s - loss: 0.0182 - accuracy: 0.9938\n",
            "Epoch 10: val_loss did not improve from 0.03702\n",
            "1313/1313 [==============================] - 7s 5ms/step - loss: 0.0184 - accuracy: 0.9938 - val_loss: 0.0467 - val_accuracy: 0.9877\n"
          ]
        }
      ],
      "source": [
        "#Training the CNN on the Training set and evaluating it on the Test set\n",
        "from keras import callbacks\n",
        "his = model.fit(X_train,y_train,epochs=10,validation_split=0.3,callbacks=cb)"
      ]
    },
    {
      "cell_type": "code",
      "execution_count": 15,
      "metadata": {
        "id": "kNLb5AXvzpIA"
      },
      "outputs": [],
      "source": [
        "#loading the trained model\n",
        "from keras.models import load_model\n",
        "model_s=load_model(\"/content/bestmodel.h5\")"
      ]
    },
    {
      "cell_type": "code",
      "execution_count": 16,
      "metadata": {
        "colab": {
          "base_uri": "https://localhost:8080/"
        },
        "id": "Kk83ewwpC0mo",
        "outputId": "3dd3ca9b-892d-4264-f354-71c34bf06764"
      },
      "outputs": [
        {
          "output_type": "stream",
          "name": "stdout",
          "text": [
            "313/313 [==============================] - 1s 3ms/step - loss: 0.0273 - accuracy: 0.9916\n",
            "the model accuracy is 0.991599977016449\n"
          ]
        }
      ],
      "source": [
        "#prediction accuracy\n",
        "score = model_s.evaluate(X_test,y_test)\n",
        "print(f\"the model accuracy is {score[1]}\")"
      ]
    },
    {
      "cell_type": "code",
      "execution_count": 17,
      "metadata": {
        "id": "_7mKmUS-XGdN"
      },
      "outputs": [],
      "source": [
        "#prediction on TESTSET\n",
        "pred = model.predict(X_test)\n",
        "preds = np.argmax(pred,axis=1)"
      ]
    },
    {
      "cell_type": "code",
      "source": [
        "list1=[2,24,16,8]\n",
        "fig, axs = plt.subplots(nrows=2, ncols=2, figsize=(12, 12))\n",
        "for i, ax in zip(list1, axs.ravel()):\n",
        "    \n",
        "    ax.imshow(testsetX[i])\n",
        "\n",
        "    ax.set_title(preds[i])"
      ],
      "metadata": {
        "colab": {
          "base_uri": "https://localhost:8080/",
          "height": 667
        },
        "id": "9xHg1tfkfI89",
        "outputId": "6b2f6e71-ea80-48e9-d00a-9472fde058cc"
      },
      "execution_count": 24,
      "outputs": [
        {
          "output_type": "display_data",
          "data": {
            "text/plain": [
              "<Figure size 864x864 with 4 Axes>"
            ],
            "image/png": "[encoded data removed]"
          },
          "metadata": {
            "needs_background": "light"
          }
        }
      ]
    }
  ],
  "metadata": {
    "accelerator": "GPU",
    "colab": {
      "provenance": [],
      "mount_file_id": "1wNJZEYgc2yartHQaZsNoo5SFNpgxgKXf",
      "authorship_tag": "ABX9TyML3O0UZcfkPnl61JtqwXkd",
      "include_colab_link": true
    },
    "gpuClass": "standard",
    "kernelspec": {
      "display_name": "Python 3",
      "name": "python3"
    },
    "language_info": {
      "name": "python"
    }
  },
  "nbformat": 4,
  "nbformat_minor": 0
}